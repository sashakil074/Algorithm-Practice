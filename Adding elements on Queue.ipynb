{
 "cells": [
  {
   "cell_type": "code",
   "execution_count": null,
   "metadata": {},
   "outputs": [],
   "source": [
    "class queuen:\n",
    "    def __init__(self):\n",
    "        self.queuen=[]\n",
    "    def add(self,data):\n",
    "        if data!=self.queuen:\n",
    "            self.queuen.append(data)\n",
    "            return True\n",
    "        else:\n",
    "            return False\n",
    "    def size(self):\n",
    "        return self.queuen"
   ]
  },
  {
   "cell_type": "code",
   "execution_count": null,
   "metadata": {},
   "outputs": [],
   "source": [
    "list=queuen()\n",
    "list.add(\"sat\")\n",
    "list.add(\"sun\")\n",
    "list.add(\"mon\")\n",
    "print(list.size())"
   ]
  }
 ],
 "metadata": {
  "kernelspec": {
   "display_name": "Python 3",
   "language": "python",
   "name": "python3"
  },
  "language_info": {
   "codemirror_mode": {
    "name": "ipython",
    "version": 3
   },
   "file_extension": ".py",
   "mimetype": "text/x-python",
   "name": "python",
   "nbconvert_exporter": "python",
   "pygments_lexer": "ipython3",
   "version": "3.7.1"
  }
 },
 "nbformat": 4,
 "nbformat_minor": 2
}
