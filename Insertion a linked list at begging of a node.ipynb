{
 "cells": [
  {
   "cell_type": "code",
   "execution_count": null,
   "metadata": {},
   "outputs": [],
   "source": [
    "class Node:\n",
    "    def __init__(self,dataval):\n",
    "        self.dataval=dataval\n",
    "        self.nextval=None"
   ]
  },
  {
   "cell_type": "code",
   "execution_count": null,
   "metadata": {},
   "outputs": [],
   "source": [
    "class Linkedlist:\n",
    "    def __init__(self):\n",
    "        headval=None\n",
    "    def printval(self):\n",
    "        printval=self.headval\n",
    "        while printval!=None:\n",
    "            print(printval.dataval)\n",
    "            printval=printval.nextval\n",
    "    def Atbeg(self,newdata):\n",
    "        Newnode=Node(newdata)\n",
    "        Newnode.nextval=self.headval\n",
    "        self.headval=Newnode"
   ]
  },
  {
   "cell_type": "code",
   "execution_count": null,
   "metadata": {},
   "outputs": [],
   "source": [
    "list=Linkedlist()\n",
    "list.headval=Node(\"sat\")\n",
    "e1=Node(\"sun\")\n",
    "e2=Node(\"mon\")\n",
    "list.headval.nextval=e1\n",
    "e1.nextval=e2\n",
    "list.Atbeg(\"fri\")\n",
    "list.printval()"
   ]
  }
 ],
 "metadata": {
  "kernelspec": {
   "display_name": "Python 3",
   "language": "python",
   "name": "python3"
  },
  "language_info": {
   "codemirror_mode": {
    "name": "ipython",
    "version": 3
   },
   "file_extension": ".py",
   "mimetype": "text/x-python",
   "name": "python",
   "nbconvert_exporter": "python",
   "pygments_lexer": "ipython3",
   "version": "3.7.1"
  }
 },
 "nbformat": 4,
 "nbformat_minor": 2
}
