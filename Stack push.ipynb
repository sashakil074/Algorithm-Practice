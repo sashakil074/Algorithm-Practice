{
 "cells": [
  {
   "cell_type": "code",
   "execution_count": null,
   "metadata": {},
   "outputs": [],
   "source": [
    "class stacke:\n",
    "    def __init__(self):\n",
    "        self.stacke=[]\n",
    "    def add(self,dataval):\n",
    "        if dataval !=self.stacke:\n",
    "            self.stacke.append(dataval)\n",
    "            return True\n",
    "        else:\n",
    "            return False\n",
    "    def peek(self):\n",
    "        return self.stacke"
   ]
  },
  {
   "cell_type": "code",
   "execution_count": null,
   "metadata": {},
   "outputs": [],
   "source": [
    "list=stacke()\n",
    "list.add(\"sat\")\n",
    "list.add(\"sun\")\n",
    "print(list.peek())\n",
    "list.add(\"mon\")\n",
    "list.add('tue')\n",
    "print(list.peek())"
   ]
  }
 ],
 "metadata": {
  "kernelspec": {
   "display_name": "Python 3",
   "language": "python",
   "name": "python3"
  },
  "language_info": {
   "codemirror_mode": {
    "name": "ipython",
    "version": 3
   },
   "file_extension": ".py",
   "mimetype": "text/x-python",
   "name": "python",
   "nbconvert_exporter": "python",
   "pygments_lexer": "ipython3",
   "version": "3.7.1"
  }
 },
 "nbformat": 4,
 "nbformat_minor": 2
}
