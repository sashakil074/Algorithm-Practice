{
 "cells": [
  {
   "cell_type": "code",
   "execution_count": null,
   "metadata": {},
   "outputs": [],
   "source": [
    "arr=[]\n",
    "def insertion_sort(arr):\n",
    "    for i in range(1,len(arr)):\n",
    "        for j in range(i-1,-1,-1):\n",
    "            if arr[j+1]<arr[j]:\n",
    "                arr[j+1],arr[j]=arr[j],arr[j+1]\n",
    "            else:\n",
    "                break"
   ]
  },
  {
   "cell_type": "code",
   "execution_count": null,
   "metadata": {},
   "outputs": [],
   "source": [
    "\n",
    "print(\"After Sorting\")\n",
    "insertion_sort(arr)n=int(input(\"Enter length:\"))\n",
    "for k in range(n):\n",
    "    data=int(input())\n",
    "    arr.append(data)\n",
    "print(\"After Sorting\")\n",
    "insertion_sort(arr)\n",
    "print(arr)"
   ]
  },
  {
   "cell_type": "code",
   "execution_count": null,
   "metadata": {},
   "outputs": [],
   "source": []
  }
 ],
 "metadata": {
  "kernelspec": {
   "display_name": "Python 3",
   "language": "python",
   "name": "python3"
  },
  "language_info": {
   "codemirror_mode": {
    "name": "ipython",
    "version": 3
   },
   "file_extension": ".py",
   "mimetype": "text/x-python",
   "name": "python",
   "nbconvert_exporter": "python",
   "pygments_lexer": "ipython3",
   "version": "3.7.1"
  }
 },
 "nbformat": 4,
 "nbformat_minor": 2
}
