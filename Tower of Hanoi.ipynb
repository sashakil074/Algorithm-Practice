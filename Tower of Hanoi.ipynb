{
 "cells": [
  {
   "cell_type": "code",
   "execution_count": null,
   "metadata": {},
   "outputs": [],
   "source": [
    "def ahanoi(disks,source,aux,target):\n",
    "    if disks>=1:\n",
    "        ahanoi(disks-1,source,target,aux)\n",
    "        move(source,target)\n",
    "        ahanoi(disks-1,aux,source,target)"
   ]
  },
  {
   "cell_type": "code",
   "execution_count": null,
   "metadata": {},
   "outputs": [],
   "source": [
    "def move(f,t):\n",
    "    print(\"Move disks\",f,\"to\",t);\n",
    "n=int(input(\"Enter the number of the disks:\"))\n",
    "ahanoi(n,'A','B','C')\n"
   ]
  }
 ],
 "metadata": {
  "kernelspec": {
   "display_name": "Python 3",
   "language": "python",
   "name": "python3"
  },
  "language_info": {
   "codemirror_mode": {
    "name": "ipython",
    "version": 3
   },
   "file_extension": ".py",
   "mimetype": "text/x-python",
   "name": "python",
   "nbconvert_exporter": "python",
   "pygments_lexer": "ipython3",
   "version": "3.7.1"
  }
 },
 "nbformat": 4,
 "nbformat_minor": 2
}
