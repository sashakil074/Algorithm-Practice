{
 "cells": [
  {
   "cell_type": "code",
   "execution_count": null,
   "metadata": {},
   "outputs": [],
   "source": [
    "Arr=[]\n",
    "def selection_sort(Arr):\n",
    "    for i in range (len(Arr)-1):\n",
    "        min=i\n",
    "        for j in range(i+1,len(Arr)):\n",
    "            if Arr[j]<=Arr[min]:\n",
    "                min=j\n",
    "        if min != i:\n",
    "                Arr[i],Arr[min]=Arr[min],Arr[i]"
   ]
  },
  {
   "cell_type": "code",
   "execution_count": null,
   "metadata": {},
   "outputs": [],
   "source": [
    "n=int(input(\"Enter Length:\"))\n",
    "for k in range(n):\n",
    "    data=int(input())\n",
    "    Arr.append(data)\n",
    "print('After Sortion')\n",
    "selection_sort(Arr)\n",
    "print(Arr)"
   ]
  }
 ],
 "metadata": {
  "kernelspec": {
   "display_name": "Python 3",
   "language": "python",
   "name": "python3"
  },
  "language_info": {
   "codemirror_mode": {
    "name": "ipython",
    "version": 3
   },
   "file_extension": ".py",
   "mimetype": "text/x-python",
   "name": "python",
   "nbconvert_exporter": "python",
   "pygments_lexer": "ipython3",
   "version": "3.7.1"
  }
 },
 "nbformat": 4,
 "nbformat_minor": 2
}
