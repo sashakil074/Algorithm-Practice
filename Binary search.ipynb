{
 "cells": [
  {
   "cell_type": "code",
   "execution_count": 2,
   "metadata": {},
   "outputs": [],
   "source": [
    "#binary search\n",
    "def binary_scarch(a,l,h,x):\n",
    "    while(l<=h):\n",
    "        mid=int(l+(h-l)/2)\n",
    "        if a[mid]==x:\n",
    "            return mid\n",
    "        elif(a[mid]<x):\n",
    "            l=mid+1\n",
    "        else:\n",
    "            h=mid-1\n",
    "    return -1"
   ]
  },
  {
   "cell_type": "code",
   "execution_count": 3,
   "metadata": {},
   "outputs": [
    {
     "name": "stdout",
     "output_type": "stream",
     "text": [
      "Enter the Scarching Number:6\n",
      "6 Finds in the 6 th position\n"
     ]
    }
   ],
   "source": [
    "a=[2,3,4,5,1,6,7,8,9,12,34]\n",
    "a.sort()\n",
    "x=int(input(\"Enter the Scarching Number:\"))\n",
    "result=binary_scarch(a,0,len(a)-1,x)\n",
    "if result==-1:\n",
    "    print(\"%d is not in the list\"%x)\n",
    "else:\n",
    "    print(\"%d Finds in the %d th position\" % (x,result+1))"
   ]
  },
  {
   "cell_type": "code",
   "execution_count": null,
   "metadata": {},
   "outputs": [],
   "source": []
  }
 ],
 "metadata": {
  "kernelspec": {
   "display_name": "Python 3",
   "language": "python",
   "name": "python3"
  },
  "language_info": {
   "codemirror_mode": {
    "name": "ipython",
    "version": 3
   },
   "file_extension": ".py",
   "mimetype": "text/x-python",
   "name": "python",
   "nbconvert_exporter": "python",
   "pygments_lexer": "ipython3",
   "version": "3.7.1"
  }
 },
 "nbformat": 4,
 "nbformat_minor": 2
}
