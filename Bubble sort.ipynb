{
 "cells": [
  {
   "cell_type": "code",
   "execution_count": 3,
   "metadata": {},
   "outputs": [],
   "source": [
    "#Bubble sort\n",
    "def bubble_sort(arr11):\n",
    "    for i in range (len(arr11)-1):\n",
    "        for j in range(len(arr11)-i-1):\n",
    "            if arr11[j]>arr11[j+1]:\n",
    "                arr11[j],arr11[j+1]=arr11[j+1],arr11[j]"
   ]
  },
  {
   "cell_type": "code",
   "execution_count": 4,
   "metadata": {},
   "outputs": [
    {
     "name": "stdout",
     "output_type": "stream",
     "text": [
      "Enter Elements Number:5\n",
      "Enter elements:\n",
      "4\n",
      "5\n",
      "2\n",
      "4\n",
      "1\n"
     ]
    }
   ],
   "source": [
    "arr11=[]\n",
    "n=int(input('Enter Elements Number:'))\n",
    "print('Enter elements:')\n",
    "for k in range(n):\n",
    "    data=int(input())\n",
    "    arr11.append(data)"
   ]
  },
  {
   "cell_type": "code",
   "execution_count": 5,
   "metadata": {},
   "outputs": [
    {
     "name": "stdout",
     "output_type": "stream",
     "text": [
      "After Sorting:\n",
      "[1, 2, 4, 4, 5]\n"
     ]
    }
   ],
   "source": [
    "print(\"After Sorting:\")\n",
    "bubble_sort(arr11)\n",
    "print(arr11)"
   ]
  },
  {
   "cell_type": "code",
   "execution_count": null,
   "metadata": {},
   "outputs": [],
   "source": []
  }
 ],
 "metadata": {
  "kernelspec": {
   "display_name": "Python 3",
   "language": "python",
   "name": "python3"
  },
  "language_info": {
   "codemirror_mode": {
    "name": "ipython",
    "version": 3
   },
   "file_extension": ".py",
   "mimetype": "text/x-python",
   "name": "python",
   "nbconvert_exporter": "python",
   "pygments_lexer": "ipython3",
   "version": "3.7.1"
  }
 },
 "nbformat": 4,
 "nbformat_minor": 2
}
