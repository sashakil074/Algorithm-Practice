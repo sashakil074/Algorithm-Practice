{
 "cells": [
  {
   "cell_type": "code",
   "execution_count": null,
   "metadata": {},
   "outputs": [],
   "source": [
    "class N:\n",
    "    def __init__(self,dataval):\n",
    "        self.dataval=dataval\n",
    "        self.nextval=None\n",
    "class Linkedlist:\n",
    "    def __init__(self):\n",
    "        self.headval=None\n",
    "    def printval(self):\n",
    "        printval=self.headval\n",
    "        while printval!=None:\n",
    "            print(printval.dataval)\n",
    "            printval=printval.nextval\n"
   ]
  },
  {
   "cell_type": "code",
   "execution_count": null,
   "metadata": {},
   "outputs": [],
   "source": [
    "list=Linkedlist()\n",
    "list.headval=N(\"Sat\")\n",
    "e1=N(\"Sun\")\n",
    "e2=N(\"mon\")\n",
    "list.headval.nextval=e1\n",
    "e1.nextval=e2\n",
    "list.printval()"
   ]
  }
 ],
 "metadata": {
  "kernelspec": {
   "display_name": "Python 3",
   "language": "python",
   "name": "python3"
  },
  "language_info": {
   "codemirror_mode": {
    "name": "ipython",
    "version": 3
   },
   "file_extension": ".py",
   "mimetype": "text/x-python",
   "name": "python",
   "nbconvert_exporter": "python",
   "pygments_lexer": "ipython3",
   "version": "3.7.1"
  }
 },
 "nbformat": 4,
 "nbformat_minor": 2
}
